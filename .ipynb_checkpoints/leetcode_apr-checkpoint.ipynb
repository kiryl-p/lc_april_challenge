{
 "cells": [
  {
   "cell_type": "markdown",
   "metadata": {},
   "source": [
    "#1 April_01\n",
    "\n",
    "__Single Number__\n",
    "\n",
    "Given a non-empty array of integers, every element appears twice except for one. Find that single one.\n",
    "\n",
    "Note:\n",
    "Your algorithm should have a linear complexity.\n",
    "\n",
    "Example 1:\n",
    "Input: [2, 2, 1]\n",
    "Output: 1\n",
    "\n",
    "Example 2:\n",
    "Input: [4, 1, 2, 1, 2]\n",
    "Output: 4"
   ]
  },
  {
   "cell_type": "code",
   "execution_count": 1,
   "metadata": {},
   "outputs": [],
   "source": [
    "lst1 = [2, 2, 1]\n",
    "lst2 = [4, 1, 2, 1, 2]"
   ]
  },
  {
   "cell_type": "code",
   "execution_count": 2,
   "metadata": {},
   "outputs": [],
   "source": [
    "def singleNumber(List):\n",
    "    index = 0\n",
    "    while List.count(List[index]) > 1:\n",
    "        index += 1\n",
    "    else:\n",
    "        unique = List[index]\n",
    "    return unique"
   ]
  },
  {
   "cell_type": "code",
   "execution_count": 3,
   "metadata": {},
   "outputs": [
    {
     "data": {
      "text/plain": [
       "1"
      ]
     },
     "execution_count": 3,
     "metadata": {},
     "output_type": "execute_result"
    }
   ],
   "source": [
    "singleNumber(lst1)"
   ]
  },
  {
   "cell_type": "code",
   "execution_count": 4,
   "metadata": {},
   "outputs": [
    {
     "data": {
      "text/plain": [
       "4"
      ]
     },
     "execution_count": 4,
     "metadata": {},
     "output_type": "execute_result"
    }
   ],
   "source": [
    "singleNumber(lst2)"
   ]
  },
  {
   "cell_type": "markdown",
   "metadata": {},
   "source": [
    "***\n",
    "***"
   ]
  },
  {
   "cell_type": "markdown",
   "metadata": {},
   "source": [
    "#2 April_02\n",
    "\n",
    "__Happy Number__\n",
    "\n",
    "Write an algorithm to determine if a number is 'happy'.\n",
    "\n",
    "A happy number is a number defined by the following process: Starting with any positive integer, replace the number by the sum of the squares of its digits, and repeat the process until the number equals 1 (where it will stay), or it loops endlessly in a cycle which does not include 1. Those numbers for which this process ends in 1 are happy numbers\n",
    "\n",
    "Example:\n",
    "Input: 19\n",
    "Output: True\n",
    "Explanation:\n",
    "1 ** 2 + 9 ** 2 = 82\n",
    "8 ** 2 + 2 ** 2 = 68\n",
    "6 ** 2 + 8 ** 2 = 100\n",
    "1 ** 2 + 0 ** 2 + 0 ** 2 = 1"
   ]
  },
  {
   "cell_type": "code",
   "execution_count": 23,
   "metadata": {},
   "outputs": [],
   "source": [
    "def isHappy(number):\n",
    "    \n",
    "    seen_numbers = []\n",
    "    while number > 1 and number not in seen_numbers:\n",
    "        seen_numbers.append(number)\n",
    "        #print(seen_numbers)\n",
    "        sum_ = 0\n",
    "        while number > 0:\n",
    "            sum_ += pow(number % 10, 2)\n",
    "            number = number // 10\n",
    "        number = sum_\n",
    "        \n",
    "    return number == 1"
   ]
  },
  {
   "cell_type": "code",
   "execution_count": 24,
   "metadata": {
    "scrolled": true
   },
   "outputs": [
    {
     "name": "stdout",
     "output_type": "stream",
     "text": [
      "[19]\n",
      "[19, 82]\n",
      "[19, 82, 68]\n",
      "[19, 82, 68, 100]\n"
     ]
    },
    {
     "data": {
      "text/plain": [
       "True"
      ]
     },
     "execution_count": 24,
     "metadata": {},
     "output_type": "execute_result"
    }
   ],
   "source": [
    "isHappy(19)"
   ]
  },
  {
   "cell_type": "code",
   "execution_count": 26,
   "metadata": {},
   "outputs": [
    {
     "name": "stdout",
     "output_type": "stream",
     "text": [
      "[989]\n",
      "[989, 226]\n",
      "[989, 226, 44]\n",
      "[989, 226, 44, 32]\n",
      "[989, 226, 44, 32, 13]\n",
      "[989, 226, 44, 32, 13, 10]\n"
     ]
    },
    {
     "data": {
      "text/plain": [
       "True"
      ]
     },
     "execution_count": 26,
     "metadata": {},
     "output_type": "execute_result"
    }
   ],
   "source": [
    "isHappy(989)"
   ]
  }
 ],
 "metadata": {
  "kernelspec": {
   "display_name": "Python 3",
   "language": "python",
   "name": "python3"
  },
  "language_info": {
   "codemirror_mode": {
    "name": "ipython",
    "version": 3
   },
   "file_extension": ".py",
   "mimetype": "text/x-python",
   "name": "python",
   "nbconvert_exporter": "python",
   "pygments_lexer": "ipython3",
   "version": "3.7.4"
  }
 },
 "nbformat": 4,
 "nbformat_minor": 2
}
