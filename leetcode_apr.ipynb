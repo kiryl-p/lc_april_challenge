{
 "cells": [
  {
   "cell_type": "markdown",
   "metadata": {},
   "source": [
    "#1 April_01\n",
    "\n",
    "__Single Number__\n",
    "\n",
    "Given a non-empty array of integers, every element appears twice except for one. Find that single one.\n",
    "\n",
    "Note:\n",
    "Your algorithm should have a linear complexity.\n",
    "\n",
    "Example 1:\n",
    "Input: [2, 2, 1]\n",
    "Output: 1\n",
    "\n",
    "Example 2:\n",
    "Input: [4, 1, 2, 1, 2]\n",
    "Output: 4"
   ]
  },
  {
   "cell_type": "code",
   "execution_count": 1,
   "metadata": {},
   "outputs": [],
   "source": [
    "lst1 = [2, 2, 1]\n",
    "lst2 = [4, 1, 2, 1, 2]"
   ]
  },
  {
   "cell_type": "code",
   "execution_count": 2,
   "metadata": {},
   "outputs": [],
   "source": [
    "def singleNumber(List):\n",
    "    index = 0\n",
    "    while List.count(List[index]) > 1:\n",
    "        index += 1\n",
    "    else:\n",
    "        unique = List[index]\n",
    "    return unique"
   ]
  },
  {
   "cell_type": "code",
   "execution_count": 3,
   "metadata": {},
   "outputs": [
    {
     "data": {
      "text/plain": [
       "1"
      ]
     },
     "execution_count": 3,
     "metadata": {},
     "output_type": "execute_result"
    }
   ],
   "source": [
    "singleNumber(lst1)"
   ]
  },
  {
   "cell_type": "code",
   "execution_count": 4,
   "metadata": {},
   "outputs": [
    {
     "data": {
      "text/plain": [
       "4"
      ]
     },
     "execution_count": 4,
     "metadata": {},
     "output_type": "execute_result"
    }
   ],
   "source": [
    "singleNumber(lst2)"
   ]
  },
  {
   "cell_type": "markdown",
   "metadata": {},
   "source": [
    "***\n",
    "***"
   ]
  },
  {
   "cell_type": "markdown",
   "metadata": {},
   "source": [
    "#2 April_02\n",
    "\n",
    "__Happy Number__\n",
    "\n",
    "Write an algorithm to determine if a number is 'happy'.\n",
    "\n",
    "A happy number is a number defined by the following process: Starting with any positive integer, replace the number by the sum of the squares of its digits, and repeat the process until the number equals 1 (where it will stay), or it loops endlessly in a cycle which does not include 1. Those numbers for which this process ends in 1 are happy numbers\n",
    "\n",
    "Example:\n",
    "Input: 19\n",
    "Output: True\n",
    "Explanation:\n",
    "1 ** 2 + 9 ** 2 = 82\n",
    "8 ** 2 + 2 ** 2 = 68\n",
    "6 ** 2 + 8 ** 2 = 100\n",
    "1 ** 2 + 0 ** 2 + 0 ** 2 = 1"
   ]
  },
  {
   "cell_type": "code",
   "execution_count": 23,
   "metadata": {},
   "outputs": [],
   "source": [
    "def isHappy(number):\n",
    "    \n",
    "    seen_numbers = []\n",
    "    while number > 1 and number not in seen_numbers:\n",
    "        seen_numbers.append(number)\n",
    "        #print(seen_numbers)\n",
    "        sum_ = 0\n",
    "        while number > 0:\n",
    "            sum_ += pow(number % 10, 2)\n",
    "            number = number // 10\n",
    "        number = sum_\n",
    "        \n",
    "    return number == 1"
   ]
  },
  {
   "cell_type": "code",
   "execution_count": 24,
   "metadata": {
    "scrolled": true
   },
   "outputs": [
    {
     "name": "stdout",
     "output_type": "stream",
     "text": [
      "[19]\n",
      "[19, 82]\n",
      "[19, 82, 68]\n",
      "[19, 82, 68, 100]\n"
     ]
    },
    {
     "data": {
      "text/plain": [
       "True"
      ]
     },
     "execution_count": 24,
     "metadata": {},
     "output_type": "execute_result"
    }
   ],
   "source": [
    "isHappy(19)"
   ]
  },
  {
   "cell_type": "code",
   "execution_count": 26,
   "metadata": {
    "scrolled": true
   },
   "outputs": [
    {
     "name": "stdout",
     "output_type": "stream",
     "text": [
      "[989]\n",
      "[989, 226]\n",
      "[989, 226, 44]\n",
      "[989, 226, 44, 32]\n",
      "[989, 226, 44, 32, 13]\n",
      "[989, 226, 44, 32, 13, 10]\n"
     ]
    },
    {
     "data": {
      "text/plain": [
       "True"
      ]
     },
     "execution_count": 26,
     "metadata": {},
     "output_type": "execute_result"
    }
   ],
   "source": [
    "isHappy(989)"
   ]
  },
  {
   "cell_type": "markdown",
   "metadata": {},
   "source": [
    "#3 April_03\n",
    "\n",
    "__Maximum Subarray__\n",
    "\n",
    "Given an integer array nums, find the contiguous subarray (containing at least one number) which has the largest sum and return its sum.\n",
    "\n",
    "Example:\n",
    "Input [-2, 1, -3, 4, -1, 2, 1, -5, 4]\n",
    "Output: 6\n",
    "Explanation: [4, -1, 2, 1] has the largest sum = 6"
   ]
  },
  {
   "cell_type": "code",
   "execution_count": null,
   "metadata": {},
   "outputs": [],
   "source": [
    "def maxSubArray:\n",
    "    return"
   ]
  },
  {
   "cell_type": "code",
   "execution_count": 1,
   "metadata": {},
   "outputs": [],
   "source": [
    "lst = [-2, 1, -3, 4, -1, 2, 1, -5, 4]\n",
    "total = sum(lst)"
   ]
  },
  {
   "cell_type": "code",
   "execution_count": 2,
   "metadata": {},
   "outputs": [
    {
     "data": {
      "text/plain": [
       "1"
      ]
     },
     "execution_count": 2,
     "metadata": {},
     "output_type": "execute_result"
    }
   ],
   "source": [
    "total"
   ]
  },
  {
   "cell_type": "markdown",
   "metadata": {},
   "source": [
    "#4 April_04"
   ]
  },
  {
   "cell_type": "markdown",
   "metadata": {},
   "source": [
    "#5 April_05"
   ]
  },
  {
   "cell_type": "code",
   "execution_count": 1,
   "metadata": {},
   "outputs": [],
   "source": [
    "#6 April_06"
   ]
  },
  {
   "cell_type": "markdown",
   "metadata": {},
   "source": [
    "#7 April_07:  \n",
    "__Counting Elements__\n",
    "\n",
    "Given an integer array *arr*, count element *x* such that *x + 1* is also in *arr*. If there're duplicates in arr, count them seperatly.\n",
    "\n",
    "Example 1:\n",
    "Input: arr = [1, 2, 3]\n",
    "Output: 2\n",
    "Explanation: 1 and 2 are counted cause 2 and 3 are in arr.\n",
    "\n",
    "Example 2:\n",
    "Input: arr = [1, 1, 3, 3, 5, 5, 7, 7]\n",
    "Output: 0\n",
    "Expalnation: No numbers are counted, cause there's no 2, 4, 6, or 8 in arr.\n",
    "\n",
    "Example 3:\n",
    "Input: arr = [1, 3, 2, 3, 5, 0]\n",
    "Output: 3\n",
    "Explanation: 0, 1, and 2 are counted cause 1, 2, and 3 are in arr.\n",
    "\n",
    "Example 4:\n",
    "Input: arr = [1, 1, 2, 2]\n",
    "Output: 2\n",
    "Explanation: Two 1's are counted caise 2 isin arr."
   ]
  },
  {
   "cell_type": "code",
   "execution_count": 3,
   "metadata": {},
   "outputs": [],
   "source": [
    "arr1 = [1, 2, 3]\n",
    "arr2 = [1, 1, 3, 3, 5, 5, 7, 7]\n",
    "arr3 = [1, 3, 2, 3, 5, 0]\n",
    "arr4 = [1, 1, 2, 2]"
   ]
  },
  {
   "cell_type": "code",
   "execution_count": 4,
   "metadata": {},
   "outputs": [],
   "source": [
    "def countElements(arr):\n",
    "    counter = 0\n",
    "    for e in arr:\n",
    "        if e + 1 in arr:\n",
    "            counter += 1\n",
    "    return counter"
   ]
  },
  {
   "cell_type": "code",
   "execution_count": 7,
   "metadata": {},
   "outputs": [
    {
     "name": "stdout",
     "output_type": "stream",
     "text": [
      "2\n",
      "0\n",
      "3\n",
      "2\n"
     ]
    }
   ],
   "source": [
    "print(countElements(arr1))\n",
    "print(countElements(arr2))\n",
    "print(countElements(arr3))\n",
    "print(countElements(arr4))"
   ]
  },
  {
   "cell_type": "markdown",
   "metadata": {},
   "source": [
    "___\n",
    "___"
   ]
  },
  {
   "cell_type": "markdown",
   "metadata": {},
   "source": [
    "#12 April_12  \n",
    "\n",
    "### __Last Stone Weight__  \n",
    "\n",
    "We have a collection of stones, each stone has a positive integer weight.\n",
    "Each turn, we choose the two heaviest stones and smash them together. Suppose the stones have weights `x` and `y` with `x <= y`. The result of this smash is:\n",
    "* If `x == y`, both stones are totally destroyed;\n",
    "* If `x != y`, the stone of weight `x` is totally destroyed, and the stone of weight `y` has new weight `y - x`.\n",
    "At the end, there is at most 1 stone left. Return the weight of this stone (or 0 if there are no stone left.)"
   ]
  },
  {
   "cell_type": "markdown",
   "metadata": {},
   "source": [
    "Example 1:\n",
    "Input: [2, 7, 4, 1, 8, 1]\n",
    "Output: 1\n",
    "Expalnation:\n",
    "We combine 7 and 8 to get 1 so the array converts to [2, 4, 1, 1, 1] then,\n",
    "We combine 2 and 4 to get 2 so the array converts to [2, 1, 1, 1] then,\n",
    "We combine 2 and 1 to get 1 so the array converts to [1, 1, 1] then,\n",
    "We combine 1 and 1 to get 0 so the array converts to [1] then that's the value of last stone."
   ]
  },
  {
   "cell_type": "markdown",
   "metadata": {},
   "source": [
    "### Ver1:"
   ]
  },
  {
   "cell_type": "code",
   "execution_count": 55,
   "metadata": {},
   "outputs": [],
   "source": [
    "def lastStoneWeight (stones):\n",
    "    stones.sort()\n",
    "    if len(stones) == 0:\n",
    "        return 0\n",
    "    if len(stones) == 1:\n",
    "        return stones[0]\n",
    "    diff = stones.pop(-1) - stones.pop(-1)\n",
    "    if diff > 0:\n",
    "        stones.append(diff)\n",
    "    return lastStoneWeight (stones)"
   ]
  },
  {
   "cell_type": "code",
   "execution_count": 31,
   "metadata": {},
   "outputs": [],
   "source": [
    "import random"
   ]
  },
  {
   "cell_type": "code",
   "execution_count": 34,
   "metadata": {},
   "outputs": [],
   "source": [
    "def listGenerator (l, n):\n",
    "    list_ = []\n",
    "    for _ in range(random.randint(1, l)):\n",
    "        list_.append(random.randint(1, 20))\n",
    "    return list_"
   ]
  },
  {
   "cell_type": "code",
   "execution_count": 56,
   "metadata": {},
   "outputs": [],
   "source": [
    "stones1 = [2, 7, 4, 1, 8, 1]\n",
    "stones2 = [10, 4, 5, 8, 1, 1, 3]\n",
    "stones3 = listGenerator(10, 20)\n",
    "stones4 = listGenerator(10, 20)"
   ]
  },
  {
   "cell_type": "code",
   "execution_count": 57,
   "metadata": {
    "scrolled": true
   },
   "outputs": [
    {
     "name": "stdout",
     "output_type": "stream",
     "text": [
      "[2, 7, 4, 1, 8, 1]\n",
      "1\n",
      "[10, 4, 5, 8, 1, 1, 3]\n",
      "0\n",
      "[6]\n",
      "6\n",
      "[19, 3, 20, 16, 9, 11]\n",
      "0\n"
     ]
    }
   ],
   "source": [
    "print(stones1)\n",
    "print(lastStoneWeight(stones1))\n",
    "print(stones2)\n",
    "print(lastStoneWeight(stones2))\n",
    "print(stones3)\n",
    "print(lastStoneWeight(stones3))\n",
    "print(stones4)\n",
    "print(lastStoneWeight(stones4))"
   ]
  },
  {
   "cell_type": "markdown",
   "metadata": {},
   "source": [
    "### Ver2:"
   ]
  },
  {
   "cell_type": "code",
   "execution_count": 58,
   "metadata": {},
   "outputs": [],
   "source": [
    "def lastStoneWeight(stones):\n",
    "    for _ in range(len(stones)):\n",
    "        stones.sort()\n",
    "        if len(stones) == 0:\n",
    "            return 0\n",
    "        if len(stones) == 1:\n",
    "            return stones[0]\n",
    "        diff = stones.pop(-1) - stones.pop(-1)\n",
    "        if diff > 0:\n",
    "            stones.append(diff)"
   ]
  },
  {
   "cell_type": "code",
   "execution_count": 59,
   "metadata": {},
   "outputs": [],
   "source": [
    "stones1 = [2, 7, 4, 1, 8, 1]\n",
    "stones2 = [10, 4, 5, 8, 1, 1, 3]\n",
    "stones3 = listGenerator(10, 20)\n",
    "stones4 = listGenerator(10, 20)"
   ]
  },
  {
   "cell_type": "code",
   "execution_count": 60,
   "metadata": {},
   "outputs": [
    {
     "name": "stdout",
     "output_type": "stream",
     "text": [
      "[2, 7, 4, 1, 8, 1]\n",
      "1\n",
      "[10, 4, 5, 8, 1, 1, 3]\n",
      "0\n",
      "[1, 2, 5, 2, 3]\n",
      "1\n",
      "[17, 3, 10, 1, 3, 18, 7, 15, 7]\n",
      "1\n"
     ]
    }
   ],
   "source": [
    "print(stones1)\n",
    "print(lastStoneWeight(stones1))\n",
    "print(stones2)\n",
    "print(lastStoneWeight(stones2))\n",
    "print(stones3)\n",
    "print(lastStoneWeight(stones3))\n",
    "print(stones4)\n",
    "print(lastStoneWeight(stones4))"
   ]
  },
  {
   "cell_type": "markdown",
   "metadata": {},
   "source": [
    "___\n",
    "___"
   ]
  },
  {
   "cell_type": "markdown",
   "metadata": {},
   "source": [
    "#14 April_14  \n",
    "### __Perform String Shifts__  \n",
    "You are given a string `s` containing lower case English letters, and a matrix `shift`, where `shift[i] = [direction] [amount]`:\n",
    "* `direction` can be `0` (for left shift) or `1` (for right shift).\n",
    "* `amount` is the amount by which string `s` is to be shifted.\n",
    "* A left shift by 1 means remove the first character of `s` and append it to the end.\n",
    "* Similarly, a right shift by 1 means remove the last character of `s` and add it to the beginning.\n",
    "\n",
    "Return the final string after all operations"
   ]
  },
  {
   "cell_type": "markdown",
   "metadata": {},
   "source": [
    "#### Example 1:  \n",
    "Input: s = \"abc\", shift = [[0, 1], [1, 2]]  \n",
    "Output: \"cab\"  \n",
    "Explanation:  \n",
    "`[0, 1]` means shift to left by 1. \"abc\" -> \"bca\"  \n",
    "`[1, 2]` means shift to right by 2. \"bca\" -> \"cab\""
   ]
  },
  {
   "cell_type": "markdown",
   "metadata": {},
   "source": [
    "#### Example 2:  \n",
    "Input: "
   ]
  },
  {
   "cell_type": "markdown",
   "metadata": {},
   "source": [
    "***\n",
    "***"
   ]
  },
  {
   "cell_type": "markdown",
   "metadata": {},
   "source": [
    "#15 April_15  \n",
    "### __Product of Array Except Self__  \n",
    "Given an array `nums` of n integers where n > 1, return an array `output` such that `output[i]` is equal to the product of all elements of nums exept `nums[i]`."
   ]
  },
  {
   "cell_type": "markdown",
   "metadata": {},
   "source": [
    "#### Example:  \n",
    "Input: `[1, 2, 3, 4]`  \n",
    "Output: `[24, 12, 8, 6]`"
   ]
  },
  {
   "cell_type": "code",
   "execution_count": 72,
   "metadata": {
    "scrolled": true
   },
   "outputs": [],
   "source": [
    "nums = [1, 2, 3, 4]\n",
    "nums1 = [2, 3, 4, 5, 6]"
   ]
  },
  {
   "cell_type": "code",
   "execution_count": 75,
   "metadata": {},
   "outputs": [],
   "source": [
    "def productExceptSelf (nums):\n",
    "    output = []\n",
    "    for i in range(len(nums)):\n",
    "        p = 1\n",
    "        lst = nums[:i] + nums[i+1:]\n",
    "        for j in range(len(lst)):\n",
    "            p *= lst[j]\n",
    "        output.append(p)\n",
    "    return output"
   ]
  },
  {
   "cell_type": "code",
   "execution_count": 79,
   "metadata": {},
   "outputs": [],
   "source": [
    "import random"
   ]
  },
  {
   "cell_type": "code",
   "execution_count": 80,
   "metadata": {},
   "outputs": [],
   "source": [
    "def listGenerator (l, n):\n",
    "    list_ = []\n",
    "    for _ in range(random.randint(1, l)):\n",
    "        list_.append(random.randint(1, 20))\n",
    "    return list_"
   ]
  },
  {
   "cell_type": "code",
   "execution_count": 76,
   "metadata": {},
   "outputs": [
    {
     "name": "stdout",
     "output_type": "stream",
     "text": [
      "[24, 12, 8, 6]\n",
      "[360, 240, 180, 144, 120]\n"
     ]
    }
   ],
   "source": [
    "print(productExceptSelf(nums))\n",
    "print(productExceptSelf(nums1))"
   ]
  },
  {
   "cell_type": "markdown",
   "metadata": {},
   "source": [
    "***\n",
    "***"
   ]
  }
 ],
 "metadata": {
  "kernelspec": {
   "display_name": "Python 3",
   "language": "python",
   "name": "python3"
  },
  "language_info": {
   "codemirror_mode": {
    "name": "ipython",
    "version": 3
   },
   "file_extension": ".py",
   "mimetype": "text/x-python",
   "name": "python",
   "nbconvert_exporter": "python",
   "pygments_lexer": "ipython3",
   "version": "3.7.4"
  }
 },
 "nbformat": 4,
 "nbformat_minor": 2
}
